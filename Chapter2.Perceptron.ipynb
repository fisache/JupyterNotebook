{
 "cells": [
  {
   "cell_type": "markdown",
   "metadata": {},
   "source": [
    "<pre>\n",
    "perceptron의 다중 입력 신호(x1, x2..)를 하나의 출력 신호(y)로 만든다.\n",
    "신호는 흐른다(1) 안흐른다(0)으로 표현할 수 있다.\n",
    "여기 가중치(w)와 임계값(theta)를 이용해 수식으로 표현한다.\n",
    "y = 0 (w1x1 + w2x2 <= theata)\n",
    "  = 1 (w1x1 + w2x2 > theata)\n",
    "</pre>"
   ]
  },
  {
   "cell_type": "markdown",
   "metadata": {},
   "source": [
    "<h1>perceptron 수식을 이용한 AND 게이트</h1>"
   ]
  },
  {
   "cell_type": "code",
   "execution_count": 1,
   "metadata": {
    "collapsed": true
   },
   "outputs": [],
   "source": [
    "def AND(x1, x2):\n",
    "    w1, w2, theta = 0.5, 0.5, 0.7\n",
    "    tmp = x1*w1 + x2*w2\n",
    "    if tmp <= theta:\n",
    "        return 0\n",
    "    elif tmp > theta:\n",
    "        return 1\n",
    "    "
   ]
  },
  {
   "cell_type": "code",
   "execution_count": 11,
   "metadata": {},
   "outputs": [
    {
     "name": "stdout",
     "output_type": "stream",
     "text": [
      "0 AND 0 = 0\n",
      "1 AND 0 = 0\n",
      "0 AND 1 = 0\n",
      "1 AND 1 = 1\n"
     ]
    }
   ],
   "source": [
    "print(\"0 AND 0 = %d\" %AND(0,0))\n",
    "print(\"1 AND 0 = %d\" %AND(1,0))\n",
    "print(\"0 AND 1 = %d\" %AND(0,1))\n",
    "print(\"1 AND 1 = %d\" %AND(1,1))"
   ]
  },
  {
   "cell_type": "markdown",
   "metadata": {},
   "source": [
    "<h1>가중치와 편항 도입</h1>\n",
    "<pre>\n",
    "theat = -b로 치환하면 수식은 다음과 같이 바뀐다.\n",
    "y = 0 (b + w1x1 + w2x2 <= 0)\n",
    "  = 1 (b + w1x1 + w2x2 > 0)\n",
    "여기서 b를 편항(bias)라고 부른다.\n",
    "위 식을 해석하면 perceptron 입력신호에 가중치를 곱한 값과 편향을 합하여,\n",
    "그 값이 0을 넘으면 1을 출력, 아니면 0을 출력한다로 해석할 수 있다.\n",
    "</pre>"
   ]
  },
  {
   "cell_type": "code",
   "execution_count": 12,
   "metadata": {},
   "outputs": [
    {
     "name": "stdout",
     "output_type": "stream",
     "text": [
      "Requirement already satisfied: numpy in /Users/inki/anaconda/lib/python3.6/site-packages\r\n"
     ]
    }
   ],
   "source": [
    "!pip install numpy"
   ]
  },
  {
   "cell_type": "code",
   "execution_count": 13,
   "metadata": {},
   "outputs": [
    {
     "name": "stdout",
     "output_type": "stream",
     "text": [
      "[ 0.   0.5]\n",
      "0.5\n",
      "-0.2\n"
     ]
    }
   ],
   "source": [
    "import numpy as np\n",
    "x = np.array([0, 1]) # 입력\n",
    "w = np.array([0.5, 0.5]) # 가중치\n",
    "b = -0.7 # 편향\n",
    "print(w*x)\n",
    "print(np.sum(w*x))\n",
    "print(np.sum(w*x)+b)\n"
   ]
  },
  {
   "cell_type": "markdown",
   "metadata": {},
   "source": [
    "<h1>가중치와 편향을 도입한 AND 게이트</h1>"
   ]
  },
  {
   "cell_type": "code",
   "execution_count": 15,
   "metadata": {},
   "outputs": [],
   "source": [
    "import numpy as np\n",
    "def AND(x1, x2):\n",
    "    x = np.array([x1, x2])\n",
    "    w = np.array([0.5, 0.5])\n",
    "    b = -0.7\n",
    "    tmp = np.sum(w*x) + b\n",
    "    if tmp <= 0:\n",
    "        return 0\n",
    "    else:\n",
    "        return 1"
   ]
  },
  {
   "cell_type": "code",
   "execution_count": 16,
   "metadata": {},
   "outputs": [
    {
     "name": "stdout",
     "output_type": "stream",
     "text": [
      "0 AND 0 = 0\n",
      "1 AND 0 = 0\n",
      "0 AND 1 = 0\n",
      "1 AND 1 = 1\n"
     ]
    }
   ],
   "source": [
    "print(\"0 AND 0 = %d\" %AND(0,0))\n",
    "print(\"1 AND 0 = %d\" %AND(1,0))\n",
    "print(\"0 AND 1 = %d\" %AND(0,1))\n",
    "print(\"1 AND 1 = %d\" %AND(1,1))"
   ]
  },
  {
   "cell_type": "markdown",
   "metadata": {},
   "source": [
    "<h1>NAND와 OR 게이트</h1>"
   ]
  },
  {
   "cell_type": "code",
   "execution_count": 17,
   "metadata": {
    "collapsed": true
   },
   "outputs": [],
   "source": [
    "import numpy as np\n",
    "def NAND(x1, x2):\n",
    "    x = np.array([x1, x2])\n",
    "    w = np.array([-0.5, -0.5]) # AND와는 가중치(w, b)만 다름.\n",
    "    b = 0.7\n",
    "    tmp = np.sum(w*x) + b\n",
    "    if tmp <= 0:\n",
    "        return 0\n",
    "    else:\n",
    "        return 1\n",
    "\n",
    "def OR(x1, x2):\n",
    "    x = np.array([x1, x2])\n",
    "    w = np.array([0.5, 0.5])\n",
    "    b = -0.2\n",
    "    tmp = np.sum(w*x) + b\n",
    "    if tmp <= 0:\n",
    "        return 0\n",
    "    else:\n",
    "        return 1"
   ]
  },
  {
   "cell_type": "code",
   "execution_count": 18,
   "metadata": {},
   "outputs": [
    {
     "name": "stdout",
     "output_type": "stream",
     "text": [
      "0 NAND 0 = 1\n",
      "1 NAND 0 = 1\n",
      "0 NAND 1 = 1\n",
      "1 NAND 1 = 0\n"
     ]
    }
   ],
   "source": [
    "print(\"0 NAND 0 = %d\" %NAND(0,0))\n",
    "print(\"1 NAND 0 = %d\" %NAND(1,0))\n",
    "print(\"0 NAND 1 = %d\" %NAND(0,1))\n",
    "print(\"1 NAND 1 = %d\" %NAND(1,1))"
   ]
  },
  {
   "cell_type": "code",
   "execution_count": 19,
   "metadata": {},
   "outputs": [
    {
     "name": "stdout",
     "output_type": "stream",
     "text": [
      "0 OR 0 = 0\n",
      "1 OR 0 = 1\n",
      "0 OR 1 = 1\n",
      "1 OR 1 = 1\n"
     ]
    }
   ],
   "source": [
    "print(\"0 OR 0 = %d\" %OR(0,0))\n",
    "print(\"1 OR 0 = %d\" %OR(1,0))\n",
    "print(\"0 OR 1 = %d\" %OR(0,1))\n",
    "print(\"1 OR 1 = %d\" %OR(1,1))"
   ]
  },
  {
   "cell_type": "markdown",
   "metadata": {},
   "source": [
    "<pre>\n",
    "지금까지 배운 perceptron으로는 AND, OR, NAND 게이트는 표현이 가능했다.\n",
    "하지만 XOR는 표현이 불가능하다.\n",
    "AND, OR, NAND의 경우, x1,x2 2차원 그래프에서 한 직선으로 0과 1의 출력값 범위를 나눌 수 있었다.\n",
    "하지만 XOR는 곡선으로 표현이 가능하다.\n",
    "따라서 perceptron은 직선 하나로 나눈 영역만 표현할 수 있다.(선형)\n",
    "하지만 다층 퍼셉트론(multi-layer perceptron)을 사용한다면 XOR 게이트를 표현할 수 있다.\n",
    "AND, NAND, OR 게이트를 조합한다면 XOR 게이트를 표현할 수 있다.\n",
    "x1 ----NAND---\n",
    "    | |       |--AND-y\n",
    "x2 ----OR-----\n",
    "</pre>"
   ]
  },
  {
   "cell_type": "markdown",
   "metadata": {},
   "source": [
    "<h1>XOR 게이트 구현하기</h1>"
   ]
  },
  {
   "cell_type": "code",
   "execution_count": 21,
   "metadata": {
    "collapsed": true
   },
   "outputs": [],
   "source": [
    "def XOR(x1, x2):\n",
    "    s1 = NAND(x1, x2)\n",
    "    s2 = OR(x1, x2)\n",
    "    y = AND(s1, s2)\n",
    "    return y"
   ]
  },
  {
   "cell_type": "code",
   "execution_count": 22,
   "metadata": {},
   "outputs": [
    {
     "name": "stdout",
     "output_type": "stream",
     "text": [
      "0 XOR 0 = 0\n",
      "1 XOR 0 = 1\n",
      "0 XOR 1 = 1\n",
      "1 XOR 1 = 0\n"
     ]
    }
   ],
   "source": [
    "print(\"0 XOR 0 = %d\" %XOR(0,0))\n",
    "print(\"1 XOR 0 = %d\" %XOR(1,0))\n",
    "print(\"0 XOR 1 = %d\" %XOR(0,1))\n",
    "print(\"1 XOR 1 = %d\" %XOR(1,1))"
   ]
  },
  {
   "cell_type": "markdown",
   "metadata": {},
   "source": [
    "<pre>\n",
    "이 과정을 뉴런을 이용한 퍼셉트론으로 표현한다면\n",
    "x1, x2이 0층\n",
    "NAND, OR의 결과인 s1, s2가 1층\n",
    "AND의 결과인 y가 2층이\n",
    "된다.\n",
    "1. 0층의 두 뉴련이 입력 신호를 받아 1층의 뉴런으로 신호를 보낸다.\n",
    "2. 1층의 뉴런이 2층의 뉴런으로 신호를 보내고, 2층의 뉴런은 이 입력 신호를 바탕으로 y를 출력한다.\n",
    "</pre>"
   ]
  },
  {
   "cell_type": "code",
   "execution_count": null,
   "metadata": {
    "collapsed": true
   },
   "outputs": [],
   "source": []
  }
 ],
 "metadata": {
  "kernelspec": {
   "display_name": "Python 3",
   "language": "python",
   "name": "python3"
  },
  "language_info": {
   "codemirror_mode": {
    "name": "ipython",
    "version": 3
   },
   "file_extension": ".py",
   "mimetype": "text/x-python",
   "name": "python",
   "nbconvert_exporter": "python",
   "pygments_lexer": "ipython3",
   "version": "3.6.1"
  }
 },
 "nbformat": 4,
 "nbformat_minor": 2
}
